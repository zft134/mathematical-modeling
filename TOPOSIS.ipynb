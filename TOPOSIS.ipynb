{
 "cells": [
  {
   "cell_type": "code",
   "execution_count": 1,
   "outputs": [],
   "source": [
    "import numpy as np  # 导入numpy包并将其命名为np"
   ],
   "metadata": {
    "collapsed": false,
    "ExecuteTime": {
     "end_time": "2024-04-29T02:35:33.570945900Z",
     "start_time": "2024-04-29T02:35:33.506786Z"
    }
   },
   "id": "6663c054d1801887"
  },
  {
   "cell_type": "code",
   "execution_count": 2,
   "outputs": [],
   "source": [
    "##定义正向化的函数\n",
    "def positivization(x,type,i):\n",
    "    # x：需要正向化处理的指标对应的原始向量\n",
    "    # typ：指标类型（1：极小型，2：中间型，3：区间型）\n",
    "    # i：正在处理的是原始矩阵的哪一列\n",
    "    if type == 1:  #极小型\n",
    "        print(\"第\",i,\"列是极小型，正向化中...\")\n",
    "        posit_x = x.max(0)-x\n",
    "        print(\"第\",i,\"列极小型处理完成\")\n",
    "        print(\"--------------------------分隔--------------------------\")\n",
    "        return posit_x\n",
    "    elif type == 2:  #中间型\n",
    "        print(\"第\",i,\"列是中间型\")\n",
    "        best = int(input(\"请输入最佳值：\"))\n",
    "        m = (abs(x-best)).max()\n",
    "        posit_x = 1-abs(x-best)/m\n",
    "        print(\"第\",i,\"列中间型处理完成\")\n",
    "        print(\"--------------------------分隔--------------------------\")\n",
    "        return posit_x\n",
    "    elif type == 3:  #区间型\n",
    "        print(\"第\",i,\"列是区间型\")\n",
    "        a,b = [int(l) for l in input(\"按顺序输入最佳区间的左右界，并用逗号隔开：\").split(\",\")]\n",
    "        m = (np.append(a-x.min(),x.max()-b)).max()\n",
    "        x_row = x.shape[0]  #获取x的行数\n",
    "        posit_x = np.zeros((x_row,1),dtype=float)\n",
    "        for r in range(x_row):\n",
    "            if x[r] < a:\n",
    "               posit_x[r] = 1-(a-x[r])/m\n",
    "            elif x[r] > b:\n",
    "               posit_x[r] = 1-(x[r]-b)/m\n",
    "            else:\n",
    "               posit_x[r] = 1\n",
    "        print(\"第\",i,\"列区间型处理完成\")\n",
    "        print(\"--------------------------分隔--------------------------\")\n",
    "        return posit_x.reshape(x_row)"
   ],
   "metadata": {
    "collapsed": false,
    "ExecuteTime": {
     "end_time": "2024-04-29T02:36:04.910797300Z",
     "start_time": "2024-04-29T02:36:04.891025600Z"
    }
   },
   "id": "32af39383e598274"
  },
  {
   "cell_type": "code",
   "execution_count": 3,
   "outputs": [
    {
     "ename": "FileNotFoundError",
     "evalue": "river.csv not found.",
     "output_type": "error",
     "traceback": [
      "\u001B[1;31m---------------------------------------------------------------------------\u001B[0m",
      "\u001B[1;31mFileNotFoundError\u001B[0m                         Traceback (most recent call last)",
      "Cell \u001B[1;32mIn[3], line 3\u001B[0m\n\u001B[0;32m      1\u001B[0m \u001B[38;5;66;03m## 第一步：从外部导入数据\u001B[39;00m\n\u001B[0;32m      2\u001B[0m \u001B[38;5;66;03m# 注：保证表格不包含除数字以外的内容\u001B[39;00m\n\u001B[1;32m----> 3\u001B[0m x_mat \u001B[38;5;241m=\u001B[39m \u001B[43mnp\u001B[49m\u001B[38;5;241;43m.\u001B[39;49m\u001B[43mloadtxt\u001B[49m\u001B[43m(\u001B[49m\u001B[38;5;124;43m'\u001B[39;49m\u001B[38;5;124;43mriver.csv\u001B[39;49m\u001B[38;5;124;43m'\u001B[39;49m\u001B[43m,\u001B[49m\u001B[43m \u001B[49m\u001B[43mencoding\u001B[49m\u001B[38;5;241;43m=\u001B[39;49m\u001B[38;5;124;43m'\u001B[39;49m\u001B[38;5;124;43mUTF-8-sig\u001B[39;49m\u001B[38;5;124;43m'\u001B[39;49m\u001B[43m,\u001B[49m\u001B[43m \u001B[49m\u001B[43mdelimiter\u001B[49m\u001B[38;5;241;43m=\u001B[39;49m\u001B[38;5;124;43m'\u001B[39;49m\u001B[38;5;124;43m,\u001B[39;49m\u001B[38;5;124;43m'\u001B[39;49m\u001B[43m)\u001B[49m  \u001B[38;5;66;03m# 推荐使用csv格式文件\u001B[39;00m\n\u001B[0;32m      5\u001B[0m \u001B[38;5;66;03m## 第二步：判断是否需要正向化\u001B[39;00m\n\u001B[0;32m      6\u001B[0m n, m \u001B[38;5;241m=\u001B[39m x_mat\u001B[38;5;241m.\u001B[39mshape\n",
      "File \u001B[1;32mE:\\anaconda\\envs\\sdsd_torch\\lib\\site-packages\\numpy\\lib\\npyio.py:1338\u001B[0m, in \u001B[0;36mloadtxt\u001B[1;34m(fname, dtype, comments, delimiter, converters, skiprows, usecols, unpack, ndmin, encoding, max_rows, quotechar, like)\u001B[0m\n\u001B[0;32m   1335\u001B[0m \u001B[38;5;28;01mif\u001B[39;00m \u001B[38;5;28misinstance\u001B[39m(delimiter, \u001B[38;5;28mbytes\u001B[39m):\n\u001B[0;32m   1336\u001B[0m     delimiter \u001B[38;5;241m=\u001B[39m delimiter\u001B[38;5;241m.\u001B[39mdecode(\u001B[38;5;124m'\u001B[39m\u001B[38;5;124mlatin1\u001B[39m\u001B[38;5;124m'\u001B[39m)\n\u001B[1;32m-> 1338\u001B[0m arr \u001B[38;5;241m=\u001B[39m \u001B[43m_read\u001B[49m\u001B[43m(\u001B[49m\u001B[43mfname\u001B[49m\u001B[43m,\u001B[49m\u001B[43m \u001B[49m\u001B[43mdtype\u001B[49m\u001B[38;5;241;43m=\u001B[39;49m\u001B[43mdtype\u001B[49m\u001B[43m,\u001B[49m\u001B[43m \u001B[49m\u001B[43mcomment\u001B[49m\u001B[38;5;241;43m=\u001B[39;49m\u001B[43mcomment\u001B[49m\u001B[43m,\u001B[49m\u001B[43m \u001B[49m\u001B[43mdelimiter\u001B[49m\u001B[38;5;241;43m=\u001B[39;49m\u001B[43mdelimiter\u001B[49m\u001B[43m,\u001B[49m\n\u001B[0;32m   1339\u001B[0m \u001B[43m            \u001B[49m\u001B[43mconverters\u001B[49m\u001B[38;5;241;43m=\u001B[39;49m\u001B[43mconverters\u001B[49m\u001B[43m,\u001B[49m\u001B[43m \u001B[49m\u001B[43mskiplines\u001B[49m\u001B[38;5;241;43m=\u001B[39;49m\u001B[43mskiprows\u001B[49m\u001B[43m,\u001B[49m\u001B[43m \u001B[49m\u001B[43musecols\u001B[49m\u001B[38;5;241;43m=\u001B[39;49m\u001B[43musecols\u001B[49m\u001B[43m,\u001B[49m\n\u001B[0;32m   1340\u001B[0m \u001B[43m            \u001B[49m\u001B[43munpack\u001B[49m\u001B[38;5;241;43m=\u001B[39;49m\u001B[43munpack\u001B[49m\u001B[43m,\u001B[49m\u001B[43m \u001B[49m\u001B[43mndmin\u001B[49m\u001B[38;5;241;43m=\u001B[39;49m\u001B[43mndmin\u001B[49m\u001B[43m,\u001B[49m\u001B[43m \u001B[49m\u001B[43mencoding\u001B[49m\u001B[38;5;241;43m=\u001B[39;49m\u001B[43mencoding\u001B[49m\u001B[43m,\u001B[49m\n\u001B[0;32m   1341\u001B[0m \u001B[43m            \u001B[49m\u001B[43mmax_rows\u001B[49m\u001B[38;5;241;43m=\u001B[39;49m\u001B[43mmax_rows\u001B[49m\u001B[43m,\u001B[49m\u001B[43m \u001B[49m\u001B[43mquote\u001B[49m\u001B[38;5;241;43m=\u001B[39;49m\u001B[43mquotechar\u001B[49m\u001B[43m)\u001B[49m\n\u001B[0;32m   1343\u001B[0m \u001B[38;5;28;01mreturn\u001B[39;00m arr\n",
      "File \u001B[1;32mE:\\anaconda\\envs\\sdsd_torch\\lib\\site-packages\\numpy\\lib\\npyio.py:975\u001B[0m, in \u001B[0;36m_read\u001B[1;34m(fname, delimiter, comment, quote, imaginary_unit, usecols, skiplines, max_rows, converters, ndmin, unpack, dtype, encoding)\u001B[0m\n\u001B[0;32m    973\u001B[0m     fname \u001B[38;5;241m=\u001B[39m os\u001B[38;5;241m.\u001B[39mfspath(fname)\n\u001B[0;32m    974\u001B[0m \u001B[38;5;28;01mif\u001B[39;00m \u001B[38;5;28misinstance\u001B[39m(fname, \u001B[38;5;28mstr\u001B[39m):\n\u001B[1;32m--> 975\u001B[0m     fh \u001B[38;5;241m=\u001B[39m \u001B[43mnp\u001B[49m\u001B[38;5;241;43m.\u001B[39;49m\u001B[43mlib\u001B[49m\u001B[38;5;241;43m.\u001B[39;49m\u001B[43m_datasource\u001B[49m\u001B[38;5;241;43m.\u001B[39;49m\u001B[43mopen\u001B[49m\u001B[43m(\u001B[49m\u001B[43mfname\u001B[49m\u001B[43m,\u001B[49m\u001B[43m \u001B[49m\u001B[38;5;124;43m'\u001B[39;49m\u001B[38;5;124;43mrt\u001B[39;49m\u001B[38;5;124;43m'\u001B[39;49m\u001B[43m,\u001B[49m\u001B[43m \u001B[49m\u001B[43mencoding\u001B[49m\u001B[38;5;241;43m=\u001B[39;49m\u001B[43mencoding\u001B[49m\u001B[43m)\u001B[49m\n\u001B[0;32m    976\u001B[0m     \u001B[38;5;28;01mif\u001B[39;00m encoding \u001B[38;5;129;01mis\u001B[39;00m \u001B[38;5;28;01mNone\u001B[39;00m:\n\u001B[0;32m    977\u001B[0m         encoding \u001B[38;5;241m=\u001B[39m \u001B[38;5;28mgetattr\u001B[39m(fh, \u001B[38;5;124m'\u001B[39m\u001B[38;5;124mencoding\u001B[39m\u001B[38;5;124m'\u001B[39m, \u001B[38;5;124m'\u001B[39m\u001B[38;5;124mlatin1\u001B[39m\u001B[38;5;124m'\u001B[39m)\n",
      "File \u001B[1;32mE:\\anaconda\\envs\\sdsd_torch\\lib\\site-packages\\numpy\\lib\\_datasource.py:193\u001B[0m, in \u001B[0;36mopen\u001B[1;34m(path, mode, destpath, encoding, newline)\u001B[0m\n\u001B[0;32m    156\u001B[0m \u001B[38;5;250m\u001B[39m\u001B[38;5;124;03m\"\"\"\u001B[39;00m\n\u001B[0;32m    157\u001B[0m \u001B[38;5;124;03mOpen `path` with `mode` and return the file object.\u001B[39;00m\n\u001B[0;32m    158\u001B[0m \n\u001B[1;32m   (...)\u001B[0m\n\u001B[0;32m    189\u001B[0m \n\u001B[0;32m    190\u001B[0m \u001B[38;5;124;03m\"\"\"\u001B[39;00m\n\u001B[0;32m    192\u001B[0m ds \u001B[38;5;241m=\u001B[39m DataSource(destpath)\n\u001B[1;32m--> 193\u001B[0m \u001B[38;5;28;01mreturn\u001B[39;00m \u001B[43mds\u001B[49m\u001B[38;5;241;43m.\u001B[39;49m\u001B[43mopen\u001B[49m\u001B[43m(\u001B[49m\u001B[43mpath\u001B[49m\u001B[43m,\u001B[49m\u001B[43m \u001B[49m\u001B[43mmode\u001B[49m\u001B[43m,\u001B[49m\u001B[43m \u001B[49m\u001B[43mencoding\u001B[49m\u001B[38;5;241;43m=\u001B[39;49m\u001B[43mencoding\u001B[49m\u001B[43m,\u001B[49m\u001B[43m \u001B[49m\u001B[43mnewline\u001B[49m\u001B[38;5;241;43m=\u001B[39;49m\u001B[43mnewline\u001B[49m\u001B[43m)\u001B[49m\n",
      "File \u001B[1;32mE:\\anaconda\\envs\\sdsd_torch\\lib\\site-packages\\numpy\\lib\\_datasource.py:533\u001B[0m, in \u001B[0;36mDataSource.open\u001B[1;34m(self, path, mode, encoding, newline)\u001B[0m\n\u001B[0;32m    530\u001B[0m     \u001B[38;5;28;01mreturn\u001B[39;00m _file_openers[ext](found, mode\u001B[38;5;241m=\u001B[39mmode,\n\u001B[0;32m    531\u001B[0m                               encoding\u001B[38;5;241m=\u001B[39mencoding, newline\u001B[38;5;241m=\u001B[39mnewline)\n\u001B[0;32m    532\u001B[0m \u001B[38;5;28;01melse\u001B[39;00m:\n\u001B[1;32m--> 533\u001B[0m     \u001B[38;5;28;01mraise\u001B[39;00m \u001B[38;5;167;01mFileNotFoundError\u001B[39;00m(\u001B[38;5;124mf\u001B[39m\u001B[38;5;124m\"\u001B[39m\u001B[38;5;132;01m{\u001B[39;00mpath\u001B[38;5;132;01m}\u001B[39;00m\u001B[38;5;124m not found.\u001B[39m\u001B[38;5;124m\"\u001B[39m)\n",
      "\u001B[1;31mFileNotFoundError\u001B[0m: river.csv not found."
     ]
    }
   ],
   "source": [
    "## 第一步：从外部导入数据\n",
    "# 注：保证表格不包含除数字以外的内容\n",
    "x_mat = np.loadtxt('river.csv', encoding='UTF-8-sig', delimiter=',')  # 推荐使用csv格式文件\n",
    "\n",
    "## 第二步：判断是否需要正向化\n",
    "n, m = x_mat.shape\n",
    "print(\"共有\", n, \"个评价对象\", m, \"个评价指标\")\n",
    "judge = int(input(\"指标是否需要正向化处理，需要请输入1，不需要则输入0：\"))\n",
    "if judge == 1:\n",
    "    position = np.array([int(i) for i in input(\"请输入需要正向化处理的指标所在的列，例如第1、3、4列需要处理，则输入1,3,4\").split(',')])\n",
    "    position = position - 1\n",
    "    typ = np.array([int(j) for j in input(\"请按照顺序输入这些列的指标类型（1：极小型，2：中间型，3：区间型）格式同上\").split(',')])\n",
    "    for k in range(position.shape[0]):\n",
    "        x_mat[:, position[k]] = positivization(x_mat[:, position[k]], typ[k], position[k])\n",
    "    print(\"正向化后的矩阵：\", x_mat)\n",
    "\n",
    "## 第三步：对正向化后的矩阵进行标准化\n",
    "tep_x1 = (x_mat * x_mat).sum(axis=0)  # 每个元素平方后按列相加\n",
    "tep_x2 = np.tile(tep_x1, (n, 1))  # 将矩阵tep_x1平铺n行\n",
    "Z = x_mat / ((tep_x2) ** 0.5)  # Z为标准化矩阵\n",
    "print(\"标准化后的矩阵为：\", Z)\n",
    "\n",
    "## 第四步：计算与最大值和最小值的距离，并算出得分\n",
    "tep_max = Z.max(0)  # 得到Z中每列的最大值\n",
    "tep_min = Z.min(0)  # 每列的最小值\n",
    "tep_a = Z - np.tile(tep_max, (n, 1))  # 将tep_max向下平铺n行,并与Z中的每个对应元素做差\n",
    "tep_i = Z - np.tile(tep_min, (n, 1))  # 将tep_max向下平铺n行，并与Z中的每个对应元素做差\n",
    "D_P = ((tep_a ** 2).sum(axis=1)) ** 0.5  # D+与最大值的距离向量\n",
    "D_N = ((tep_i ** 2).sum(axis=1)) ** 0.5\n",
    "S = D_N / (D_P + D_N)  # 未归一化的得分\n",
    "std_S = S / S.sum(axis=0)\n",
    "sorted_S = np.sort(std_S, axis=0)\n",
    "print(std_S)  # 打印标准化后的得分\n",
    "## std_S.to_csv(std_S.csv)  结果输出到std_S.csv文件"
   ],
   "metadata": {
    "collapsed": false,
    "ExecuteTime": {
     "end_time": "2024-04-29T02:43:36.571423100Z",
     "start_time": "2024-04-29T02:43:35.994861200Z"
    }
   },
   "id": "24e13196b215614"
  }
 ],
 "metadata": {
  "kernelspec": {
   "display_name": "Python 3",
   "language": "python",
   "name": "python3"
  },
  "language_info": {
   "codemirror_mode": {
    "name": "ipython",
    "version": 2
   },
   "file_extension": ".py",
   "mimetype": "text/x-python",
   "name": "python",
   "nbconvert_exporter": "python",
   "pygments_lexer": "ipython2",
   "version": "2.7.6"
  }
 },
 "nbformat": 4,
 "nbformat_minor": 5
}
