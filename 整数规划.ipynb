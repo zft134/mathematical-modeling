{
 "cells": [
  {
   "cell_type": "markdown",
   "source": [
    "# 指派问题：\n",
    "# 假设有3个任务和3个执行者，cost[i][j] 表示第 i 个任务分配给第 j 个执行者的开销"
   ],
   "metadata": {
    "collapsed": false
   },
   "id": "4368dddbfea4732e"
  },
  {
   "cell_type": "code",
   "execution_count": 2,
   "outputs": [],
   "source": [
    "import numpy as np\n",
    "from scipy.optimize import linear_sum_assignment"
   ],
   "metadata": {
    "collapsed": false,
    "ExecuteTime": {
     "end_time": "2024-05-06T10:18:00.945547700Z",
     "start_time": "2024-05-06T10:18:00.711374100Z"
    }
   },
   "id": "39a31fbcb55fa4bd"
  },
  {
   "cell_type": "code",
   "execution_count": 3,
   "outputs": [],
   "source": [
    "cost = np.array([[4, 1, 3], [2, 0, 5], [3, 2, 2]])"
   ],
   "metadata": {
    "collapsed": false,
    "ExecuteTime": {
     "end_time": "2024-05-06T10:18:01.566027600Z",
     "start_time": "2024-05-06T10:18:01.559300Z"
    }
   },
   "id": "b4f7a488562906c5"
  },
  {
   "cell_type": "code",
   "execution_count": 4,
   "outputs": [],
   "source": [
    "# 使用 linear_sum_assignment 函数求解指派问题\n",
    "row_ind, col_ind = linear_sum_assignment(cost)"
   ],
   "metadata": {
    "collapsed": false,
    "ExecuteTime": {
     "end_time": "2024-05-06T10:18:03.181013900Z",
     "start_time": "2024-05-06T10:18:03.156354900Z"
    }
   },
   "id": "909bbe1871d52d05"
  },
  {
   "cell_type": "code",
   "execution_count": 5,
   "outputs": [
    {
     "name": "stdout",
     "output_type": "stream",
     "text": [
      "最优行索引: [0 1 2]\n",
      "最优列索引: [1 0 2]\n",
      "每个任务的开销: [1 2 2]\n",
      "总开销: 5\n"
     ]
    }
   ],
   "source": [
    "# 打印结果\n",
    "print(\"最优行索引:\", row_ind)  # 开销矩阵对应的行索引\n",
    "print(\"最优列索引:\", col_ind)  # 对应行索引的最优指派的列索引\n",
    "print(\"每个任务的开销:\", cost[row_ind, col_ind])  # 提取每个行索引的最优指派列索引所在的元素，形成数组\n",
    "print(\"总开销:\", cost[row_ind, col_ind].sum())  # 数组求和"
   ],
   "metadata": {
    "collapsed": false,
    "ExecuteTime": {
     "end_time": "2024-05-06T10:18:03.997218100Z",
     "start_time": "2024-05-06T10:18:03.965938900Z"
    }
   },
   "id": "19b5721456db6dc3"
  }
 ],
 "metadata": {
  "kernelspec": {
   "display_name": "Python 3",
   "language": "python",
   "name": "python3"
  },
  "language_info": {
   "codemirror_mode": {
    "name": "ipython",
    "version": 2
   },
   "file_extension": ".py",
   "mimetype": "text/x-python",
   "name": "python",
   "nbconvert_exporter": "python",
   "pygments_lexer": "ipython2",
   "version": "2.7.6"
  }
 },
 "nbformat": 4,
 "nbformat_minor": 5
}
