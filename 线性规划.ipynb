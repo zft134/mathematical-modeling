{
 "cells": [
  {
   "cell_type": "raw",
   "source": [
    "标准形式为：\n",
    "min z=2X1+3X2+X3\n",
    "s.t\n",
    "x1+4x2+2x3>=8\n",
    "3x1+2x2>=6\n",
    "x1,x2,x3>=0\n",
    "\n",
    "上述线性规划问题Python代码\n"
   ],
   "metadata": {
    "collapsed": false
   },
   "id": "f124461f8165f2d8"
  },
  {
   "cell_type": "code",
   "execution_count": 14,
   "outputs": [],
   "source": [
    "import numpy as np\n",
    "from scipy.optimize import linprog"
   ],
   "metadata": {
    "collapsed": false,
    "ExecuteTime": {
     "end_time": "2024-05-06T10:10:17.020067700Z",
     "start_time": "2024-05-06T10:10:17.017754500Z"
    }
   },
   "id": "6cdd8469b07538a8"
  },
  {
   "cell_type": "code",
   "execution_count": 15,
   "outputs": [],
   "source": [
    "# 定义目标函数系数向量\n",
    "c = np.array([2, 3, 1])"
   ],
   "metadata": {
    "collapsed": false,
    "ExecuteTime": {
     "end_time": "2024-05-06T10:10:17.345313700Z",
     "start_time": "2024-05-06T10:10:17.334071100Z"
    }
   },
   "id": "eb8538b10a42ff90"
  },
  {
   "cell_type": "code",
   "execution_count": 16,
   "outputs": [],
   "source": [
    "# 定义不等式约束的系数矩阵\n",
    "A_ub = np.array([[-1, -4, -2],   # 不等式约束1的系数向量\n",
    "                 [-3, -2, 0]])   # 不等式约束2的系数向量"
   ],
   "metadata": {
    "collapsed": false,
    "ExecuteTime": {
     "end_time": "2024-05-06T10:10:17.620243400Z",
     "start_time": "2024-05-06T10:10:17.601912700Z"
    }
   },
   "id": "7e45debacd5a4c8f"
  },
  {
   "cell_type": "code",
   "execution_count": 17,
   "outputs": [],
   "source": [
    "# 定义不等式约束的右侧常数向量\n",
    "b_ub = np.array([-8, -6])"
   ],
   "metadata": {
    "collapsed": false,
    "ExecuteTime": {
     "end_time": "2024-05-06T10:10:17.857420100Z",
     "start_time": "2024-05-06T10:10:17.851317100Z"
    }
   },
   "id": "a55aaac1fc26da02"
  },
  {
   "cell_type": "code",
   "execution_count": 18,
   "outputs": [],
   "source": [
    "# 定义变量的取值范围\n",
    "# 注意：这里使用了元组来指定每个变量的取值范围，(0, None)表示变量大于等于0，无上界\n",
    "bounds = ((0, None), (0, None), (0, None))"
   ],
   "metadata": {
    "collapsed": false,
    "ExecuteTime": {
     "end_time": "2024-05-06T10:10:18.049288500Z",
     "start_time": "2024-05-06T10:10:18.038670Z"
    }
   },
   "id": "77a084dfa29568f"
  },
  {
   "cell_type": "code",
   "execution_count": 19,
   "outputs": [],
   "source": [
    "# 使用线性规划函数求解\n",
    "result = linprog(c, A_ub=A_ub, b_ub=b_ub, bounds=bounds)"
   ],
   "metadata": {
    "collapsed": false,
    "ExecuteTime": {
     "end_time": "2024-05-06T10:10:18.251461300Z",
     "start_time": "2024-05-06T10:10:18.231443600Z"
    }
   },
   "id": "fb44be6394a8ab52"
  },
  {
   "cell_type": "code",
   "execution_count": 21,
   "outputs": [
    {
     "name": "stdout",
     "output_type": "stream",
     "text": [
      "        message: Optimization terminated successfully. (HiGHS Status 7: Optimal)\n",
      "        success: True\n",
      "         status: 0\n",
      "            fun: 7.0\n",
      "              x: [ 8.000e-01  1.800e+00  0.000e+00]\n",
      "            nit: 3\n",
      "          lower:  residual: [ 8.000e-01  1.800e+00  0.000e+00]\n",
      "                 marginals: [ 0.000e+00  0.000e+00  0.000e+00]\n",
      "          upper:  residual: [       inf        inf        inf]\n",
      "                 marginals: [ 0.000e+00  0.000e+00  0.000e+00]\n",
      "          eqlin:  residual: []\n",
      "                 marginals: []\n",
      "        ineqlin:  residual: [ 0.000e+00  0.000e+00]\n",
      "                 marginals: [-5.000e-01 -5.000e-01]\n",
      " mip_node_count: 0\n",
      " mip_dual_bound: 0.0\n",
      "        mip_gap: 0.0\n"
     ]
    }
   ],
   "source": [
    "# 打印结果\n",
    "print(result)"
   ],
   "metadata": {
    "collapsed": false,
    "ExecuteTime": {
     "end_time": "2024-05-06T10:11:11.199973600Z",
     "start_time": "2024-05-06T10:11:11.181332500Z"
    }
   },
   "id": "698aac753f4def46"
  },
  {
   "cell_type": "raw",
   "source": [
    "当然，让我们更简洁地解释一下结果：\n",
    "\n",
    "- **message**: 优化成功，HiGHS 状态 7 表示最优解。\n",
    "\n",
    "- **success**: 表示求解是否成功。这里为 True，说明成功找到了解。\n",
    "\n",
    "- **status**: 求解状态。0 表示成功。\n",
    "\n",
    "- **fun**: 目标函数的最小值。为 7.0。\n",
    "\n",
    "- **x**: 最优解对应的变量取值。\\(x_1 = 0.8, x_2 = 1.8, x_3 = 0.0\\)。\n",
    "\n",
    "- **nit**: 迭代次数。\n",
    "\n",
    "- **residual**: 约束条件未满足的程度。\n",
    "\n",
    "- **marginals**: 每个约束对最优解的影响。\n",
    "\n",
    "- **mip_node_count**: MIP（整数规划）节点数。这是线性规划，所以为 0。\n",
    "\n",
    "- **mip_dual_bound**: MIP（整数规划）的对偶界限。\n",
    "\n",
    "- **mip_gap**: MIP（整数规划）的间隙。\n"
   ],
   "metadata": {
    "collapsed": false
   },
   "id": "65c57e12469c5ba6"
  }
 ],
 "metadata": {
  "kernelspec": {
   "display_name": "Python 3",
   "language": "python",
   "name": "python3"
  },
  "language_info": {
   "codemirror_mode": {
    "name": "ipython",
    "version": 2
   },
   "file_extension": ".py",
   "mimetype": "text/x-python",
   "name": "python",
   "nbconvert_exporter": "python",
   "pygments_lexer": "ipython2",
   "version": "2.7.6"
  }
 },
 "nbformat": 4,
 "nbformat_minor": 5
}
