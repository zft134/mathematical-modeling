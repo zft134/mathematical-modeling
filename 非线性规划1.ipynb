{
 "cells": [
  {
   "cell_type": "markdown",
   "source": [
    "给定条件：\n",
    "\n",
    "- x_1 + x_2 + x_3 + x_4 + x_5 ≤ 400\n",
    "- x_1 + 2x_2 + 2x_3 + x_4 + 6x_5 ≤ 800\n",
    "- 2x_1 + x_2 + 6x_3 ≤ 200\n",
    "- x_3 + x_4 + 5x_5 ≤ 200\n",
    "\n",
    "其中，x_1, x_2, x_3, x_4, x_5 是随机向量的元素。\n",
    "\n",
    "这个问题的目标是找到满足上述条件的随机向量中的最大值。"
   ],
   "metadata": {
    "collapsed": false
   },
   "id": "56770f1cefe83fe1"
  },
  {
   "cell_type": "code",
   "execution_count": 1,
   "outputs": [],
   "source": [
    "import numpy as np"
   ],
   "metadata": {
    "collapsed": false,
    "ExecuteTime": {
     "end_time": "2024-05-06T10:22:02.121146500Z",
     "start_time": "2024-05-06T10:22:02.023182700Z"
    }
   },
   "id": "ca72f524b64eb6a5"
  },
  {
   "cell_type": "code",
   "execution_count": 2,
   "outputs": [],
   "source": [
    "def check(x):\n",
    "    # 检查函数，检查向量 x 是否满足给定的条件\n",
    "    if x.sum() > 400:\n",
    "        return False\n",
    "    if x[0] + 2*x[1] + 2*x[2] + x[3] + 6*x[4] > 800:\n",
    "        return False\n",
    "    if 2*x[0] + x[1] + 6*x[2] > 200:\n",
    "        return False\n",
    "    if x[2] + x[3] + 5*x[4] > 200:\n",
    "        return False\n",
    "    return True"
   ],
   "metadata": {
    "collapsed": false,
    "ExecuteTime": {
     "end_time": "2024-05-06T10:22:12.218599600Z",
     "start_time": "2024-05-06T10:22:12.200277500Z"
    }
   },
   "id": "9675585f7ef961fb"
  },
  {
   "cell_type": "code",
   "execution_count": 3,
   "outputs": [],
   "source": [
    "def get_random():\n",
    "    # 生成随机向量，并检查是否满足条件，如果不满足，继续生成，直到满足条件为止\n",
    "    x = np.random.randint(100, size=5)\n",
    "    while not check(x):\n",
    "        x = get_random()\n",
    "    return x"
   ],
   "metadata": {
    "collapsed": false,
    "ExecuteTime": {
     "end_time": "2024-05-06T10:22:25.513262700Z",
     "start_time": "2024-05-06T10:22:25.500148100Z"
    }
   },
   "id": "2e35f21f0c4819a4"
  },
  {
   "cell_type": "code",
   "execution_count": 5,
   "outputs": [],
   "source": [
    "lim = 10**6  # 定义迭代次数上限为 10 的六次方，即 1000000 次\n",
    "ans = -1     # 初始化最大值为 -1"
   ],
   "metadata": {
    "collapsed": false,
    "ExecuteTime": {
     "end_time": "2024-05-06T10:25:48.986354900Z",
     "start_time": "2024-05-06T10:25:48.961756900Z"
    }
   },
   "id": "70ed349f35b68a1c"
  },
  {
   "cell_type": "code",
   "execution_count": 6,
   "outputs": [
    {
     "name": "stdout",
     "output_type": "stream",
     "text": [
      "0\n",
      "10000\n",
      "20000\n",
      "30000\n",
      "40000\n",
      "50000\n",
      "60000\n",
      "70000\n",
      "80000\n",
      "90000\n",
      "100000\n",
      "110000\n",
      "120000\n",
      "130000\n",
      "140000\n",
      "150000\n",
      "160000\n",
      "170000\n",
      "180000\n",
      "190000\n",
      "200000\n",
      "210000\n",
      "220000\n",
      "230000\n",
      "240000\n",
      "250000\n",
      "260000\n",
      "270000\n",
      "280000\n",
      "290000\n",
      "300000\n",
      "310000\n",
      "320000\n",
      "330000\n",
      "340000\n",
      "350000\n",
      "360000\n",
      "370000\n",
      "380000\n",
      "390000\n",
      "400000\n",
      "410000\n",
      "420000\n",
      "430000\n",
      "440000\n",
      "450000\n",
      "460000\n",
      "470000\n",
      "480000\n",
      "490000\n",
      "500000\n",
      "510000\n",
      "520000\n",
      "530000\n",
      "540000\n",
      "550000\n",
      "560000\n",
      "570000\n",
      "580000\n",
      "590000\n",
      "600000\n",
      "610000\n",
      "620000\n",
      "630000\n",
      "640000\n",
      "650000\n",
      "660000\n",
      "670000\n",
      "680000\n",
      "690000\n",
      "700000\n",
      "710000\n",
      "720000\n",
      "730000\n",
      "740000\n",
      "750000\n",
      "760000\n",
      "770000\n",
      "780000\n",
      "790000\n",
      "800000\n",
      "810000\n",
      "820000\n",
      "830000\n",
      "840000\n",
      "850000\n",
      "860000\n",
      "870000\n",
      "880000\n",
      "890000\n",
      "900000\n",
      "910000\n",
      "920000\n",
      "930000\n",
      "940000\n",
      "950000\n",
      "960000\n",
      "970000\n",
      "980000\n",
      "990000\n"
     ]
    }
   ],
   "source": [
    "for i in range(lim):\n",
    "    # 生成随机向量并获取最大值\n",
    "    num = get_random()\n",
    "    ans = max(ans, num.max())\n",
    "    if i % 10000 == 0:\n",
    "        print(i)"
   ],
   "metadata": {
    "collapsed": false,
    "ExecuteTime": {
     "end_time": "2024-05-06T10:34:22.866299300Z",
     "start_time": "2024-05-06T10:25:57.628790100Z"
    }
   },
   "id": "a452e0e9608615b1"
  },
  {
   "cell_type": "code",
   "execution_count": 7,
   "outputs": [
    {
     "name": "stdout",
     "output_type": "stream",
     "text": [
      "ans= 99\n"
     ]
    }
   ],
   "source": [
    "print('ans=', ans)  # 输出最大值"
   ],
   "metadata": {
    "collapsed": false,
    "ExecuteTime": {
     "end_time": "2024-05-06T10:34:22.880887500Z",
     "start_time": "2024-05-06T10:34:22.868578800Z"
    }
   },
   "id": "94e4ca6147b6d606"
  }
 ],
 "metadata": {
  "kernelspec": {
   "display_name": "Python 3",
   "language": "python",
   "name": "python3"
  },
  "language_info": {
   "codemirror_mode": {
    "name": "ipython",
    "version": 2
   },
   "file_extension": ".py",
   "mimetype": "text/x-python",
   "name": "python",
   "nbconvert_exporter": "python",
   "pygments_lexer": "ipython2",
   "version": "2.7.6"
  }
 },
 "nbformat": 4,
 "nbformat_minor": 5
}
