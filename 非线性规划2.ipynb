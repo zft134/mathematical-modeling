{
 "cells": [
  {
   "cell_type": "raw",
   "source": [
    "# 这段代码使用了SciPy中的SLSQP（顺序最小二乘法）方法来求解具有约束条件的优化问题。\n",
    "# 这个问题的目标是最小化目标函数：f(x) = x[0]^2 + x[1]^2 + x[2]^2 + 8\n",
    "# 在满足以下约束条件的情况下：\n",
    "# 约束1：x[0]^2 - x[1] + x[2]^2 >= 0\n",
    "# 约束2：-(x[0] + x[1]^2 + x[2]^2 - 20) >= 0\n",
    "# 约束3：-x[0] - x[1]^2 + 2 = 0\n",
    "# 约束4：x[1] + 2 * x[2]^2 - 3 >= 0\n",
    "# 边界约束：x[0], x[1], x[2]的取值范围为非负实数\n",
    "# 初始解为x0 = [0, 0, 0]"
   ],
   "metadata": {
    "collapsed": false
   },
   "id": "a50b7a50b81b731b"
  },
  {
   "cell_type": "code",
   "execution_count": 7,
   "outputs": [],
   "source": [
    "from scipy.optimize import minimize\n",
    "import numpy as np"
   ],
   "metadata": {
    "collapsed": false,
    "ExecuteTime": {
     "end_time": "2024-05-06T10:32:02.288985500Z",
     "start_time": "2024-05-06T10:32:02.270551100Z"
    }
   },
   "id": "f783bf6ae38e3d0f"
  },
  {
   "cell_type": "code",
   "execution_count": 8,
   "outputs": [],
   "source": [
    "# 目标函数\n",
    "def objective(x):\n",
    "    return x[0] ** 2 + x[1] ** 2 + x[2] ** 2 + 8"
   ],
   "metadata": {
    "collapsed": false,
    "ExecuteTime": {
     "end_time": "2024-05-06T10:32:02.465463500Z",
     "start_time": "2024-05-06T10:32:02.461376200Z"
    }
   },
   "id": "24f0875bc1c03eff"
  },
  {
   "cell_type": "code",
   "execution_count": 9,
   "outputs": [],
   "source": [
    "# 约束条件1\n",
    "def constraint1(x):\n",
    "    return x[0] ** 2 - x[1] + x[2] ** 2  "
   ],
   "metadata": {
    "collapsed": false,
    "ExecuteTime": {
     "end_time": "2024-05-06T10:32:02.689281100Z",
     "start_time": "2024-05-06T10:32:02.655382100Z"
    }
   },
   "id": "8dedc8f190023c2f"
  },
  {
   "cell_type": "code",
   "execution_count": 10,
   "outputs": [],
   "source": [
    "# 约束条件2\n",
    "def constraint2(x):\n",
    "    return -(x[0] + x[1] ** 2 + x[2] ** 2 - 20)  "
   ],
   "metadata": {
    "collapsed": false,
    "ExecuteTime": {
     "end_time": "2024-05-06T10:32:02.934982800Z",
     "start_time": "2024-05-06T10:32:02.920336600Z"
    }
   },
   "id": "c8d77978876f3d06"
  },
  {
   "cell_type": "code",
   "execution_count": 11,
   "outputs": [],
   "source": [
    "# 约束条件3\n",
    "def constraint3(x):\n",
    "    return -x[0] - x[1] ** 2 + 2  "
   ],
   "metadata": {
    "collapsed": false,
    "ExecuteTime": {
     "end_time": "2024-05-06T10:32:03.204022400Z",
     "start_time": "2024-05-06T10:32:03.180259100Z"
    }
   },
   "id": "d223d2677c1f7d38"
  },
  {
   "cell_type": "code",
   "execution_count": 12,
   "outputs": [],
   "source": [
    "# 约束条件4\n",
    "def constraint4(x):\n",
    "    return x[1] + 2 * x[2] ** 2 - 3  "
   ],
   "metadata": {
    "collapsed": false,
    "ExecuteTime": {
     "end_time": "2024-05-06T10:32:03.512397700Z",
     "start_time": "2024-05-06T10:32:03.496026400Z"
    }
   },
   "id": "6109f6baea826ba3"
  },
  {
   "cell_type": "code",
   "execution_count": 13,
   "outputs": [],
   "source": [
    "# 定义边界约束\n",
    "b = (0.0, None)\n",
    "bnds = (b, b, b)"
   ],
   "metadata": {
    "collapsed": false,
    "ExecuteTime": {
     "end_time": "2024-05-06T10:32:03.755751700Z",
     "start_time": "2024-05-06T10:32:03.746696700Z"
    }
   },
   "id": "4457f7b85e036969"
  },
  {
   "cell_type": "code",
   "execution_count": 14,
   "outputs": [],
   "source": [
    "# 定义约束类型和约束函数\n",
    "con1 = {'type': 'ineq', 'fun': constraint1}\n",
    "con2 = {'type': 'ineq', 'fun': constraint2}\n",
    "con3 = {'type': 'eq', 'fun': constraint3}\n",
    "con4 = {'type': 'ineq', 'fun': constraint4}"
   ],
   "metadata": {
    "collapsed": false,
    "ExecuteTime": {
     "end_time": "2024-05-06T10:32:04.020436100Z",
     "start_time": "2024-05-06T10:32:04.005848200Z"
    }
   },
   "id": "f1a6ef53379f7aa"
  },
  {
   "cell_type": "code",
   "execution_count": 15,
   "outputs": [],
   "source": [
    "# 将约束添加到约束列表中\n",
    "cons = ([con1, con2, con3, con4])"
   ],
   "metadata": {
    "collapsed": false,
    "ExecuteTime": {
     "end_time": "2024-05-06T10:32:04.352066Z",
     "start_time": "2024-05-06T10:32:04.328906Z"
    }
   },
   "id": "8b1b2ce5a6ad92bc"
  },
  {
   "cell_type": "code",
   "execution_count": 16,
   "outputs": [],
   "source": [
    "# 初始解\n",
    "x0 = np.array([0, 0, 0])"
   ],
   "metadata": {
    "collapsed": false,
    "ExecuteTime": {
     "end_time": "2024-05-06T10:32:04.724302600Z",
     "start_time": "2024-05-06T10:32:04.709853800Z"
    }
   },
   "id": "d0470b0a3fc4d32e"
  },
  {
   "cell_type": "code",
   "execution_count": 17,
   "outputs": [],
   "source": [
    "# 使用SLSQP方法求解优化问题\n",
    "solution = minimize(objective, x0, method='SLSQP', bounds=bnds, constraints=cons)\n",
    "x = solution.x"
   ],
   "metadata": {
    "collapsed": false,
    "ExecuteTime": {
     "end_time": "2024-05-06T10:32:05.098928800Z",
     "start_time": "2024-05-06T10:32:05.066269300Z"
    }
   },
   "id": "4ca84d4cc01e80f3"
  },
  {
   "cell_type": "code",
   "execution_count": 18,
   "outputs": [
    {
     "name": "stdout",
     "output_type": "stream",
     "text": [
      "目标值: 10.651091840613567\n",
      "答案为\n",
      "x1 = 0.5521673412842228\n",
      "x2 = 1.203259181853925\n"
     ]
    }
   ],
   "source": [
    "# 打印结果\n",
    "print('目标值: ' + str(objective(x)))\n",
    "print('答案为')\n",
    "print('x1 = ' + str(x[0]))\n",
    "print('x2 = ' + str(x[1]))"
   ],
   "metadata": {
    "collapsed": false,
    "ExecuteTime": {
     "end_time": "2024-05-06T10:32:05.659311700Z",
     "start_time": "2024-05-06T10:32:05.613606100Z"
    }
   },
   "id": "2b6375f597475760"
  }
 ],
 "metadata": {
  "kernelspec": {
   "display_name": "Python 3",
   "language": "python",
   "name": "python3"
  },
  "language_info": {
   "codemirror_mode": {
    "name": "ipython",
    "version": 2
   },
   "file_extension": ".py",
   "mimetype": "text/x-python",
   "name": "python",
   "nbconvert_exporter": "python",
   "pygments_lexer": "ipython2",
   "version": "2.7.6"
  }
 },
 "nbformat": 4,
 "nbformat_minor": 5
}
