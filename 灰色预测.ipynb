{
 "cells": [
  {
   "cell_type": "code",
   "execution_count": 1,
   "outputs": [],
   "source": [
    "import numpy as np\n",
    "import math"
   ],
   "metadata": {
    "collapsed": false,
    "ExecuteTime": {
     "end_time": "2024-04-29T02:57:01.984217500Z",
     "start_time": "2024-04-29T02:57:01.899046500Z"
    }
   },
   "id": "215533dba31d26ac"
  },
  {
   "cell_type": "code",
   "execution_count": 2,
   "outputs": [],
   "source": [
    "# 历史数据\n",
    "history_data = [724.57, 746.62, 778.27, 800.8, 827.75, 871.1, 912.37, 954.28, 995.01, 1037.2]\n",
    "n = len(history_data)\n",
    "X0 = np.array(history_data)"
   ],
   "metadata": {
    "collapsed": false,
    "ExecuteTime": {
     "end_time": "2024-04-29T02:57:08.117054800Z",
     "start_time": "2024-04-29T02:57:08.111786900Z"
    }
   },
   "id": "1b9fc1eea225f608"
  },
  {
   "cell_type": "code",
   "execution_count": 3,
   "outputs": [],
   "source": [
    "# 累加生成\n",
    "history_data_agg = [sum(history_data[0:i+1]) for i in range(n)]\n",
    "X1 = np.array(history_data_agg)"
   ],
   "metadata": {
    "collapsed": false,
    "ExecuteTime": {
     "end_time": "2024-04-29T02:57:14.656031800Z",
     "start_time": "2024-04-29T02:57:14.641241Z"
    }
   },
   "id": "c211ac526a148251"
  },
  {
   "cell_type": "code",
   "execution_count": 4,
   "outputs": [],
   "source": [
    "# 计算数据矩阵B和数据向量Y\n",
    "B = np.zeros([n-1, 2])\n",
    "Y = np.zeros([n-1, 1])\n",
    "for i in range(0, n-1):\n",
    "    B[i][0] = -0.5 * (X1[i] + X1[i+1])\n",
    "    B[i][1] = 1\n",
    "    Y[i][0] = X0[i+1]"
   ],
   "metadata": {
    "collapsed": false,
    "ExecuteTime": {
     "end_time": "2024-04-29T02:57:22.691993500Z",
     "start_time": "2024-04-29T02:57:22.675349100Z"
    }
   },
   "id": "747cc69b98502690"
  },
  {
   "cell_type": "code",
   "execution_count": 5,
   "outputs": [],
   "source": [
    "# 计算GM(1,1)微分方程的参数a和u\n",
    "A = np.linalg.inv(B.T.dot(B)).dot(B.T).dot(Y)\n",
    "a = A[0][0]\n",
    "u = A[1][0]"
   ],
   "metadata": {
    "collapsed": false,
    "ExecuteTime": {
     "end_time": "2024-04-29T02:57:30.091021Z",
     "start_time": "2024-04-29T02:57:30.061131600Z"
    }
   },
   "id": "7a621cb0c9a2ce2d"
  },
  {
   "cell_type": "code",
   "execution_count": 6,
   "outputs": [],
   "source": [
    "# 建立灰色预测模型\n",
    "XX0 = np.zeros(n)\n",
    "XX0[0] = X0[0]\n",
    "for i in range(1, n):\n",
    "    XX0[i] = (X0[0] - u/a) * (1 - math.exp(a)) * math.exp(-a * (i))"
   ],
   "metadata": {
    "collapsed": false,
    "ExecuteTime": {
     "end_time": "2024-04-29T02:57:36.913297500Z",
     "start_time": "2024-04-29T02:57:36.901329500Z"
    }
   },
   "id": "665eb7693a33ebe8"
  },
  {
   "cell_type": "code",
   "execution_count": 7,
   "outputs": [],
   "source": [
    "# 模型精度的后验差检验\n",
    "e = 0  # 求残差平均值\n",
    "for i in range(0, n):\n",
    "    e += (X0[i] - XX0[i])\n",
    "e /= n"
   ],
   "metadata": {
    "collapsed": false,
    "ExecuteTime": {
     "end_time": "2024-04-29T02:57:44.573709600Z",
     "start_time": "2024-04-29T02:57:44.568294200Z"
    }
   },
   "id": "c001c50ceb2b0b8d"
  },
  {
   "cell_type": "code",
   "execution_count": 8,
   "outputs": [],
   "source": [
    "# 求历史数据平均值\n",
    "aver = sum(history_data) / n"
   ],
   "metadata": {
    "collapsed": false,
    "ExecuteTime": {
     "end_time": "2024-04-29T02:57:50.780973200Z",
     "start_time": "2024-04-29T02:57:50.772871900Z"
    }
   },
   "id": "4d0ad07b9c864b47"
  },
  {
   "cell_type": "code",
   "execution_count": 9,
   "outputs": [],
   "source": [
    "# 求历史数据平均值\n",
    "aver = sum(history_data) / n"
   ],
   "metadata": {
    "collapsed": false,
    "ExecuteTime": {
     "end_time": "2024-04-29T02:57:56.090342700Z",
     "start_time": "2024-04-29T02:57:56.073399600Z"
    }
   },
   "id": "3326e5318be100ea"
  },
  {
   "cell_type": "code",
   "execution_count": 15,
   "outputs": [],
   "source": [
    "# 求历史数据平均值\n",
    "aver = sum(history_data) / n"
   ],
   "metadata": {
    "collapsed": false,
    "ExecuteTime": {
     "end_time": "2024-04-29T02:59:12.642430400Z",
     "start_time": "2024-04-29T02:59:12.610997200Z"
    }
   },
   "id": "6da6ab8ed20f2542"
  },
  {
   "cell_type": "code",
   "execution_count": 16,
   "outputs": [],
   "source": [
    "# 求历史数据方差\n",
    "s12 = sum((x - aver)**2 for x in history_data) / n"
   ],
   "metadata": {
    "collapsed": false,
    "ExecuteTime": {
     "end_time": "2024-04-29T02:59:14.472863700Z",
     "start_time": "2024-04-29T02:59:14.456487500Z"
    }
   },
   "id": "2104a216d0f006be"
  },
  {
   "cell_type": "code",
   "execution_count": 13,
   "outputs": [],
   "source": [
    "# 求残差方差\n",
    "s22 = sum(((X0[i] - XX0[i]) - e)**2 for i in range(n)) / n"
   ],
   "metadata": {
    "collapsed": false,
    "ExecuteTime": {
     "end_time": "2024-04-29T02:58:48.791382100Z",
     "start_time": "2024-04-29T02:58:48.771854500Z"
    }
   },
   "id": "629f272e93999c8c"
  },
  {
   "cell_type": "code",
   "execution_count": 17,
   "outputs": [],
   "source": [
    "# 求后验差比值\n",
    "C = s22 / s12"
   ],
   "metadata": {
    "collapsed": false,
    "ExecuteTime": {
     "end_time": "2024-04-29T02:59:16.204764100Z",
     "start_time": "2024-04-29T02:59:16.191215600Z"
    }
   },
   "id": "5a58af2aecfeb47c"
  },
  {
   "cell_type": "code",
   "execution_count": 18,
   "outputs": [],
   "source": [
    "# 求小误差概率\n",
    "count = sum(1 for i in range(n) if abs((X0[i] - XX0[i]) - e) < 0.6754 * math.sqrt(s12))\n",
    "P = count / n"
   ],
   "metadata": {
    "collapsed": false,
    "ExecuteTime": {
     "end_time": "2024-04-29T02:59:23.567897800Z",
     "start_time": "2024-04-29T02:59:23.554732Z"
    }
   },
   "id": "483d255dce3e7be6"
  },
  {
   "cell_type": "code",
   "execution_count": 19,
   "outputs": [
    {
     "name": "stdout",
     "output_type": "stream",
     "text": [
      "往后 10 各年负荷为：\n",
      "1079.3804472397696\n",
      "1125.6545763554018\n",
      "1173.9125240874318\n",
      "1224.2393387420727\n",
      "1276.723714732258\n",
      "1331.4581488899175\n",
      "1388.5391034795148\n",
      "1448.0671762001446\n",
      "1510.147277475788\n",
      "1574.8888153461808\n"
     ]
    }
   ],
   "source": [
    "# 判断预测精度\n",
    "if C < 0.35 and P > 0.95:\n",
    "    # 预测精度为一级\n",
    "    m = 10   # 需要预测的年数\n",
    "    print('往后', m, '各年负荷为：')\n",
    "    f = np.zeros(m)\n",
    "    for i in range(m):\n",
    "        f[i] = (X0[0] - u/a) * (1 - math.exp(a)) * math.exp(-a * (i + n))\n",
    "        print(f[i])\n",
    "else:\n",
    "    print('灰色预测法不适用')"
   ],
   "metadata": {
    "collapsed": false,
    "ExecuteTime": {
     "end_time": "2024-04-29T02:59:30.523180900Z",
     "start_time": "2024-04-29T02:59:30.509518700Z"
    }
   },
   "id": "81efb677dcb33e68"
  }
 ],
 "metadata": {
  "kernelspec": {
   "display_name": "Python 3",
   "language": "python",
   "name": "python3"
  },
  "language_info": {
   "codemirror_mode": {
    "name": "ipython",
    "version": 2
   },
   "file_extension": ".py",
   "mimetype": "text/x-python",
   "name": "python",
   "nbconvert_exporter": "python",
   "pygments_lexer": "ipython2",
   "version": "2.7.6"
  }
 },
 "nbformat": 4,
 "nbformat_minor": 5
}
