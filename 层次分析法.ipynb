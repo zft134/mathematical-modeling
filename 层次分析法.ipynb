{
 "cells": [
  {
   "cell_type": "code",
   "execution_count": 42,
   "id": "initial_id",
   "metadata": {
    "collapsed": true,
    "ExecuteTime": {
     "end_time": "2024-04-29T02:31:38.346753400Z",
     "start_time": "2024-04-29T02:31:38.332198700Z"
    }
   },
   "outputs": [],
   "source": [
    "import numpy as np"
   ]
  },
  {
   "cell_type": "code",
   "execution_count": 43,
   "outputs": [],
   "source": [
    "import numpy as np\n",
    "\n",
    "class AHP:\n",
    "    \"\"\"\n",
    "    相关信息的传入和准备\n",
    "    \"\"\"\n",
    "\n",
    "    def __init__(self, array):\n",
    "        ## 记录矩阵相关信息\n",
    "        self.array = array\n",
    "        ## 记录矩阵大小\n",
    "        self.n = array.shape[0]\n",
    "        # 初始化RI值，用于一致性检验\n",
    "        self.RI_list = [0, 0, 0.52, 0.89, 1.12, 1.26, 1.36, 1.41, 1.46, 1.49, 1.52, 1.54, 1.56, 1.58,\n",
    "                        1.59]\n",
    "        # 矩阵的特征值和特征向量\n",
    "        self.eig_val, self.eig_vector = np.linalg.eig(self.array)\n",
    "        # 矩阵的最大特征值\n",
    "        self.max_eig_val = np.max(self.eig_val)\n",
    "        # 矩阵最大特征值对应的特征向量\n",
    "        self.max_eig_vector = self.eig_vector[:, np.argmax(self.eig_val)].real\n",
    "        # 矩阵的一致性指标CI\n",
    "        self.CI_val = (self.max_eig_val - self.n) / (self.n - 1)\n",
    "        # 矩阵的一致性比例CR\n",
    "        self.CR_val = self.CI_val / (self.RI_list[self.n - 1])\n",
    "\n",
    "    \"\"\"\n",
    "    一致性判断\n",
    "    \"\"\"\n",
    "\n",
    "    def cal_weight_by_arithmetic_method(self):\n",
    "        # 求矩阵的每列的和\n",
    "        col_sum = np.sum(self.array, axis=0)\n",
    "        # 将判断矩阵按照列归一化\n",
    "        array_normed = self.array / col_sum\n",
    "        # 计算权重向量\n",
    "        array_weight = np.sum(array_normed, axis=1) / self.n\n",
    "        # 打印权重向量\n",
    "        print(\"算术平均法计算得到的权重向量为：\\n\", array_weight)\n",
    "        # 返回权重向量的值\n",
    "        return array_weight\n",
    "\n",
    "    def cal_weight_by_geometric_method(self):\n",
    "        # 求矩阵的每列的积\n",
    "        col_product = np.product(self.array, axis=0)\n",
    "        # 将得到的积向量的每个分量进行开n次方\n",
    "        array_power = np.power(col_product, 1 / self.n)\n",
    "        # 将列向量归一化\n",
    "        array_weight = array_power / np.sum(array_power)\n",
    "        # 打印权重向量\n",
    "        print(\"几何平均法计算得到的权重向量为：\\n\", array_weight)\n",
    "        # 返回权重向量的值\n",
    "        return array_weight\n",
    "\n",
    "    def cal_weight_by_eigenvalue_method(self):\n",
    "        # 将矩阵最大特征值对应的特征向量进行归一化处理就得到了权重\n",
    "        array_weight = self.max_eig_vector / np.sum(self.max_eig_vector)\n",
    "        # 打印权重向量\n",
    "        print(\"特征值法计算得到的权重向量为：\\n\", array_weight)\n",
    "        # 返回权重向量的值\n",
    "        return array_weight\n"
   ],
   "metadata": {
    "collapsed": false,
    "ExecuteTime": {
     "end_time": "2024-04-29T02:31:38.720498800Z",
     "start_time": "2024-04-29T02:31:38.705779400Z"
    }
   },
   "id": "a6ef096c4dd72fd"
  },
  {
   "cell_type": "code",
   "execution_count": 44,
   "outputs": [
    {
     "name": "stdout",
     "output_type": "stream",
     "text": [
      "算术平均法计算得到的权重向量为：\n",
      " [0.08199023 0.23644689 0.68156288]\n",
      "几何平均法计算得到的权重向量为：\n",
      " [0.68172455 0.2363407  0.08193475]\n",
      "特征值法计算得到的权重向量为：\n",
      " [0.08193475 0.2363407  0.68172455]\n"
     ]
    }
   ],
   "source": [
    "if __name__ == \"__main__\":\n",
    "    # 给出判断矩阵\n",
    "    b = np.array([[1, 1 / 3, 1 / 8], [3, 1, 1 / 3], [8, 3, 1]])\n",
    "\n",
    "    # 创建 AHP 对象\n",
    "    ahp = AHP(b)\n",
    "\n",
    "    # 算术平均法求权重\n",
    "    weight1 = ahp.cal_weight_by_arithmetic_method()  # 这里修正为正确的方法名\n",
    "    # 几何平均法求权重\n",
    "    weight2 = ahp.cal_weight_by_geometric_method()\n",
    "    # 特征值法求权重\n",
    "    weight3 = ahp.cal_weight_by_eigenvalue_method()"
   ],
   "metadata": {
    "collapsed": false,
    "ExecuteTime": {
     "end_time": "2024-04-29T02:31:39.234832400Z",
     "start_time": "2024-04-29T02:31:39.223957800Z"
    }
   },
   "id": "8d7225f427a5aec5"
  }
 ],
 "metadata": {
  "kernelspec": {
   "display_name": "Python 3",
   "language": "python",
   "name": "python3"
  },
  "language_info": {
   "codemirror_mode": {
    "name": "ipython",
    "version": 2
   },
   "file_extension": ".py",
   "mimetype": "text/x-python",
   "name": "python",
   "nbconvert_exporter": "python",
   "pygments_lexer": "ipython2",
   "version": "2.7.6"
  }
 },
 "nbformat": 4,
 "nbformat_minor": 5
}
